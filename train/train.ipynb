{
 "cells": [
  {
   "cell_type": "code",
   "execution_count": null,
   "metadata": {},
   "outputs": [],
   "source": [
    "import os\n",
    "import json\n",
    "import torch\n",
    "import logging\n",
    "import argparse\n",
    "from transformers import AutoTokenizer, AutoModelForCausalLM\n",
    "from torch.utils.data import DataLoader\n",
    "from datasets import Dataset, load_dataset\n",
    "from itertools import chain\n",
    "from tqdm import tqdm\n",
    "\n",
    "os.environ[\"TOKENIZERS_PARALLELISM\"] = \"true\"\n",
    "\n",
    "def get_device():\n",
    "    device = \"cpu\"\n",
    "    if torch.cuda.is_available():\n",
    "        device = torch.device(\"cuda\")\n",
    "    if torch.backends.mps.is_available() and torch.backends.mps.is_built():\n",
    "        device = torch.device(\"mps\")\n",
    "    return device\n",
    "\n",
    "def create_few_shot(number_few_shot):\n",
    "    with open('../benchmark/prompt_examples.json') as json_file:\n",
    "        data = json.load(json_file)\n",
    "\n",
    "    template = \"Context: {context}\\nQuestion: {question}\\nAnswer: {answers}\"\n",
    "    prompt = \"\\n\\n\".join([template.format(\n",
    "        context=row['context'],\n",
    "        question=row['question'],\n",
    "        answers=row['answers']\n",
    "    ) for row in data[0:number_few_shot]])\n",
    "    return prompt+'\\n\\n'\n",
    "\n",
    "def create_prompt(item, prompt_examples):\n",
    "    template = \"Context: {context}\\nQuestion: {question}\\nAnswer: \"\n",
    "    prompt = template.format(context=item['context'], question=item['question'])\n",
    "    if prompt_examples:\n",
    "        item['prompt'] = prompt_examples+prompt\n",
    "    else:\n",
    "        item['prompt'] = prompt\n",
    "    return item\n",
    "\n",
    "def tokenization(items, tokenizer):\n",
    "    return tokenizer(items[\"prompt\"], padding='longest')"
   ]
  },
  {
   "cell_type": "code",
   "execution_count": null,
   "metadata": {},
   "outputs": [],
   "source": [
    "model_id = \"EleutherAI/pythia-160m-deduped\"\n",
    "dataset_id = \"squad\"\n",
    "split_name = \"train\"\n",
    "number_few_shot = 3\n",
    "batch_size = 1\n",
    "num_workers = 2"
   ]
  },
  {
   "cell_type": "code",
   "execution_count": null,
   "metadata": {},
   "outputs": [],
   "source": [
    "device = get_device()"
   ]
  },
  {
   "cell_type": "code",
   "execution_count": null,
   "metadata": {},
   "outputs": [],
   "source": [
    "tokenizer = AutoTokenizer.from_pretrained(model_id)\n",
    "tokenizer.add_special_tokens({\"pad_token\":\"<pad>\"})\n",
    "tokenizer.padding_side = 'left'\n",
    "\n",
    "model = AutoModelForCausalLM.from_pretrained(model_id, torch_dtype=torch.float16).to(device)\n",
    "model.resize_token_embeddings(len(tokenizer))\n",
    "model.config.pad_token_id = tokenizer.pad_token_id"
   ]
  },
  {
   "cell_type": "code",
   "execution_count": null,
   "metadata": {},
   "outputs": [],
   "source": [
    "dataset = load_dataset(dataset_id, split=split_name)\n",
    "prompt_examples = create_few_shot(number_few_shot) if number_few_shot>0 else \"\"\n",
    "prompt_examples_length = len(prompt_examples)\n",
    "dataset = dataset.map(lambda item: create_prompt(item, prompt_examples))\n",
    "dataset = dataset.map(lambda items: tokenization(items, tokenizer=tokenizer), batched=True, batch_size=batch_size)\n",
    "dataset.set_format(type=\"torch\", columns=[\"input_ids\", \"attention_mask\"])\n",
    "dataloader = DataLoader(dataset, batch_size=batch_size, num_workers=num_workers)"
   ]
  },
  {
   "cell_type": "code",
   "execution_count": null,
   "metadata": {},
   "outputs": [],
   "source": [
    "predictions = []\n",
    "i = 0\n",
    "with torch.no_grad():\n",
    "    for batch in tqdm(dataloader):\n",
    "        output = model.generate(\n",
    "            batch['input_ids'].to(device),\n",
    "            attention_mask=batch['attention_mask'].to(device),\n",
    "            pad_token_id=tokenizer.pad_token_id,\n",
    "            max_new_tokens=15,\n",
    "        ).to('cpu')\n",
    "        sentences = tokenizer.batch_decode(output, skip_special_tokens=True)\n",
    "        print(sentences[0][prompt_examples_length:].split('\\n')[2][7:])\n",
    "        print(dataset['answers'][i])\n",
    "        print('\\n\\n')\n",
    "        i+=1"
   ]
  }
 ],
 "metadata": {
  "kernelspec": {
   "display_name": "llm_distillation",
   "language": "python",
   "name": "python3"
  },
  "language_info": {
   "codemirror_mode": {
    "name": "ipython",
    "version": 3
   },
   "file_extension": ".py",
   "mimetype": "text/x-python",
   "name": "python",
   "nbconvert_exporter": "python",
   "pygments_lexer": "ipython3",
   "version": "3.10.13"
  }
 },
 "nbformat": 4,
 "nbformat_minor": 2
}

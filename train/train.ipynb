{
 "cells": [
  {
   "cell_type": "code",
   "execution_count": 1,
   "metadata": {},
   "outputs": [
    {
     "name": "stderr",
     "output_type": "stream",
     "text": [
      "/Users/nboizard/miniconda3/envs/llm_distillation/lib/python3.10/site-packages/tqdm/auto.py:21: TqdmWarning: IProgress not found. Please update jupyter and ipywidgets. See https://ipywidgets.readthedocs.io/en/stable/user_install.html\n",
      "  from .autonotebook import tqdm as notebook_tqdm\n"
     ]
    }
   ],
   "source": [
    "import os\n",
    "import json\n",
    "import torch\n",
    "import logging\n",
    "import argparse\n",
    "from transformers import AutoTokenizer, AutoModelForCausalLM\n",
    "from torch.utils.data import DataLoader\n",
    "from datasets import Dataset, load_dataset\n",
    "from itertools import chain\n",
    "from tqdm import tqdm\n",
    "\n",
    "os.environ[\"TOKENIZERS_PARALLELISM\"] = \"true\"\n",
    "\n",
    "def get_device():\n",
    "    device = \"cpu\"\n",
    "    if torch.cuda.is_available():\n",
    "        device = torch.device(\"cuda\")\n",
    "    if torch.backends.mps.is_available() and torch.backends.mps.is_built():\n",
    "        device = torch.device(\"mps\")\n",
    "    return device\n",
    "\n",
    "def create_few_shot(number_few_shot):\n",
    "    with open('prompt_examples.json') as json_file:\n",
    "        data = json.load(json_file)\n",
    "\n",
    "    template = \"Context: {context}\\nQuestion: {question}\\nAnswer:{answers}\"\n",
    "    prompt = \"\\n\\n\".join([template.format(\n",
    "        context=row['context'],\n",
    "        question=row['question'],\n",
    "        answers=row['answers']\n",
    "    ) for row in data[0:number_few_shot]])\n",
    "    return prompt+'\\n\\n'\n",
    "\n",
    "def create_prompt(item, prompt_examples):\n",
    "    template = \"Context: {context}\\nQuestion: {question}\\nAnswer:\"\n",
    "    prompt = template.format(context=item['context'], question=item['question'])\n",
    "    if prompt_examples:\n",
    "        item['prompt'] = prompt_examples+prompt\n",
    "    else:\n",
    "        item['prompt'] = prompt\n",
    "    return item\n",
    "\n",
    "def tokenization(items, tokenizer):\n",
    "    return tokenizer(items[\"prompt\"], padding='longest')"
   ]
  },
  {
   "cell_type": "code",
   "execution_count": 4,
   "metadata": {},
   "outputs": [],
   "source": [
    "model_id = \"meta-llama/Llama-2-7b-hf\"\n",
    "dataset_id = \"squad\"\n",
    "split_name = \"train\"\n",
    "number_few_shot = 0\n",
    "batch_size = 16\n",
    "num_workers = 2"
   ]
  },
  {
   "cell_type": "code",
   "execution_count": 2,
   "metadata": {},
   "outputs": [],
   "source": [
    "device = get_device()"
   ]
  },
  {
   "cell_type": "code",
   "execution_count": null,
   "metadata": {},
   "outputs": [],
   "source": [
    "tokenizer = AutoTokenizer.from_pretrained(model_id)\n",
    "tokenizer.add_special_tokens({\"pad_token\":\"<pad>\"})\n",
    "tokenizer.padding_side = 'left'"
   ]
  }
 ],
 "metadata": {
  "kernelspec": {
   "display_name": "llm_distillation",
   "language": "python",
   "name": "python3"
  },
  "language_info": {
   "codemirror_mode": {
    "name": "ipython",
    "version": 3
   },
   "file_extension": ".py",
   "mimetype": "text/x-python",
   "name": "python",
   "nbconvert_exporter": "python",
   "pygments_lexer": "ipython3",
   "version": "3.10.13"
  }
 },
 "nbformat": 4,
 "nbformat_minor": 2
}
